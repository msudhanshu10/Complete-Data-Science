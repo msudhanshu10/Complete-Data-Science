{
  "nbformat": 4,
  "nbformat_minor": 0,
  "metadata": {
    "colab": {
      "name": "NLP- Tokenization.ipynb",
      "provenance": [],
      "authorship_tag": "ABX9TyMr20fSA27dSgBk9fl3WfHy",
      "include_colab_link": true
    },
    "kernelspec": {
      "name": "python3",
      "display_name": "Python 3"
    }
  },
  "cells": [
    {
      "cell_type": "markdown",
      "metadata": {
        "id": "view-in-github",
        "colab_type": "text"
      },
      "source": [
        "<a href=\"https://colab.research.google.com/github/msudhanshu10/Complete-Data-Science/blob/master/NLP_Tokenization.ipynb\" target=\"_parent\"><img src=\"https://colab.research.google.com/assets/colab-badge.svg\" alt=\"Open In Colab\"/></a>"
      ]
    },
    {
      "cell_type": "code",
      "metadata": {
        "colab": {
          "base_uri": "https://localhost:8080/"
        },
        "id": "PNh2DhKogD_v",
        "outputId": "43d77b96-a6f8-4f84-fe32-6a8c9d0cc67b"
      },
      "source": [
        "# Setup\r\n",
        "!pip install -q wordcloud\r\n",
        "import wordcloud\r\n",
        "\r\n",
        "import nltk\r\n",
        "nltk.download('stopwords')\r\n",
        "nltk.download('wordnet')\r\n",
        "nltk.download('punkt')\r\n",
        "nltk.download('averaged_perceptron_tagger') \r\n",
        "\r\n",
        "import pandas as pd\r\n",
        "import matplotlib.pyplot as plt\r\n",
        "import io\r\n",
        "import unicodedata\r\n",
        "import numpy as np\r\n",
        "import re\r\n",
        "import string"
      ],
      "execution_count": 1,
      "outputs": [
        {
          "output_type": "stream",
          "text": [
            "[nltk_data] Downloading package stopwords to /root/nltk_data...\n",
            "[nltk_data]   Unzipping corpora/stopwords.zip.\n",
            "[nltk_data] Downloading package wordnet to /root/nltk_data...\n",
            "[nltk_data]   Unzipping corpora/wordnet.zip.\n",
            "[nltk_data] Downloading package punkt to /root/nltk_data...\n",
            "[nltk_data]   Unzipping tokenizers/punkt.zip.\n",
            "[nltk_data] Downloading package averaged_perceptron_tagger to\n",
            "[nltk_data]     /root/nltk_data...\n",
            "[nltk_data]   Unzipping taggers/averaged_perceptron_tagger.zip.\n"
          ],
          "name": "stdout"
        }
      ]
    },
    {
      "cell_type": "code",
      "metadata": {
        "id": "CpGhl6BfW7xA"
      },
      "source": [
        "paragraph= \"\"\"I have three visions for India. In 3000 years of our history, people from all over \r\n",
        "              the world have come and invaded us, captured our lands, conquered our minds. \r\n",
        "              From Alexander onwards, the Greeks, the Turks, the Moguls, the Portuguese, the British,\r\n",
        "              the French, the Dutch, all of them came and looted us, took over what was ours. \r\n",
        "              Yet we have not done this to any other nation. We have not conquered anyone. \r\n",
        "              We have not grabbed their land, their culture, \r\n",
        "              their history and tried to enforce our way of life on them. \r\n",
        "              Why? Because we respect the freedom of others.That is why my \r\n",
        "              first vision is that of freedom. I believe that India got its first vision of \r\n",
        "              this in 1857, when we started the War of Independence. It is this freedom that\r\n",
        "              we must protect and nurture and build on. If we are not free, no one will respect us.\r\n",
        "              My second vision for India’s development. For fifty years we have been a developing nation.\r\n",
        "              It is time we see ourselves as a developed nation. We are among the top 5 nations of the world\r\n",
        "              in terms of GDP. We have a 10 percent growth rate in most areas. Our poverty levels are falling.\r\n",
        "              Our achievements are being globally recognised today. Yet we lack the self-confidence to\r\n",
        "              see ourselves as a developed nation, self-reliant and self-assured. Isn’t this incorrect?\r\n",
        "              I have a third vision. India must stand up to the world. Because I believe that unless India \r\n",
        "              stands up to the world, no one will respect us. Only strength respects strength. We must be \r\n",
        "              strong not only as a military power but also as an economic power. Both must go hand-in-hand. \r\n",
        "              My good fortune was to have worked with three great minds. Dr. Vikram Sarabhai of the Dept. of \r\n",
        "              space, Professor Satish Dhawan, who succeeded him and Dr. Brahm Prakash, father of nuclear material.\r\n",
        "              I was lucky to have worked with all three of them closely and consider this the great opportunity of my life. \r\n",
        "              I see four milestones in my career\"\"\""
      ],
      "execution_count": 2,
      "outputs": []
    },
    {
      "cell_type": "code",
      "metadata": {
        "colab": {
          "base_uri": "https://localhost:8080/",
          "height": 137
        },
        "id": "b2mywLaBXpGJ",
        "outputId": "39e61a55-fa66-4fdb-c8c9-926b22bbad65"
      },
      "source": [
        "paragraph"
      ],
      "execution_count": 3,
      "outputs": [
        {
          "output_type": "execute_result",
          "data": {
            "application/vnd.google.colaboratory.intrinsic+json": {
              "type": "string"
            },
            "text/plain": [
              "'I have three visions for India. In 3000 years of our history, people from all over \\n              the world have come and invaded us, captured our lands, conquered our minds. \\n              From Alexander onwards, the Greeks, the Turks, the Moguls, the Portuguese, the British,\\n              the French, the Dutch, all of them came and looted us, took over what was ours. \\n              Yet we have not done this to any other nation. We have not conquered anyone. \\n              We have not grabbed their land, their culture, \\n              their history and tried to enforce our way of life on them. \\n              Why? Because we respect the freedom of others.That is why my \\n              first vision is that of freedom. I believe that India got its first vision of \\n              this in 1857, when we started the War of Independence. It is this freedom that\\n              we must protect and nurture and build on. If we are not free, no one will respect us.\\n              My second vision for India’s development. For fifty years we have been a developing nation.\\n              It is time we see ourselves as a developed nation. We are among the top 5 nations of the world\\n              in terms of GDP. We have a 10 percent growth rate in most areas. Our poverty levels are falling.\\n              Our achievements are being globally recognised today. Yet we lack the self-confidence to\\n              see ourselves as a developed nation, self-reliant and self-assured. Isn’t this incorrect?\\n              I have a third vision. India must stand up to the world. Because I believe that unless India \\n              stands up to the world, no one will respect us. Only strength respects strength. We must be \\n              strong not only as a military power but also as an economic power. Both must go hand-in-hand. \\n              My good fortune was to have worked with three great minds. Dr. Vikram Sarabhai of the Dept. of \\n              space, Professor Satish Dhawan, who succeeded him and Dr. Brahm Prakash, father of nuclear material.\\n              I was lucky to have worked with all three of them closely and consider this the great opportunity of my life. \\n              I see four milestones in my career'"
            ]
          },
          "metadata": {
            "tags": []
          },
          "execution_count": 3
        }
      ]
    },
    {
      "cell_type": "code",
      "metadata": {
        "colab": {
          "base_uri": "https://localhost:8080/"
        },
        "id": "XdtpzrvEXr9Q",
        "outputId": "36102782-b3da-4bfc-85d5-a3bbcfcb1ddd"
      },
      "source": [
        "sentences= nltk.sent_tokenize(paragraph)\r\n",
        "sentences"
      ],
      "execution_count": 4,
      "outputs": [
        {
          "output_type": "execute_result",
          "data": {
            "text/plain": [
              "['I have three visions for India.',\n",
              " 'In 3000 years of our history, people from all over \\n              the world have come and invaded us, captured our lands, conquered our minds.',\n",
              " 'From Alexander onwards, the Greeks, the Turks, the Moguls, the Portuguese, the British,\\n              the French, the Dutch, all of them came and looted us, took over what was ours.',\n",
              " 'Yet we have not done this to any other nation.',\n",
              " 'We have not conquered anyone.',\n",
              " 'We have not grabbed their land, their culture, \\n              their history and tried to enforce our way of life on them.',\n",
              " 'Why?',\n",
              " 'Because we respect the freedom of others.That is why my \\n              first vision is that of freedom.',\n",
              " 'I believe that India got its first vision of \\n              this in 1857, when we started the War of Independence.',\n",
              " 'It is this freedom that\\n              we must protect and nurture and build on.',\n",
              " 'If we are not free, no one will respect us.',\n",
              " 'My second vision for India’s development.',\n",
              " 'For fifty years we have been a developing nation.',\n",
              " 'It is time we see ourselves as a developed nation.',\n",
              " 'We are among the top 5 nations of the world\\n              in terms of GDP.',\n",
              " 'We have a 10 percent growth rate in most areas.',\n",
              " 'Our poverty levels are falling.',\n",
              " 'Our achievements are being globally recognised today.',\n",
              " 'Yet we lack the self-confidence to\\n              see ourselves as a developed nation, self-reliant and self-assured.',\n",
              " 'Isn’t this incorrect?',\n",
              " 'I have a third vision.',\n",
              " 'India must stand up to the world.',\n",
              " 'Because I believe that unless India \\n              stands up to the world, no one will respect us.',\n",
              " 'Only strength respects strength.',\n",
              " 'We must be \\n              strong not only as a military power but also as an economic power.',\n",
              " 'Both must go hand-in-hand.',\n",
              " 'My good fortune was to have worked with three great minds.',\n",
              " 'Dr. Vikram Sarabhai of the Dept.',\n",
              " 'of \\n              space, Professor Satish Dhawan, who succeeded him and Dr. Brahm Prakash, father of nuclear material.',\n",
              " 'I was lucky to have worked with all three of them closely and consider this the great opportunity of my life.',\n",
              " 'I see four milestones in my career']"
            ]
          },
          "metadata": {
            "tags": []
          },
          "execution_count": 4
        }
      ]
    },
    {
      "cell_type": "code",
      "metadata": {
        "id": "jhMCV6ssX5AC",
        "colab": {
          "base_uri": "https://localhost:8080/"
        },
        "outputId": "af25ab0e-d109-4974-e4d7-fa50bb848917"
      },
      "source": [
        "len(sentences)"
      ],
      "execution_count": 5,
      "outputs": [
        {
          "output_type": "execute_result",
          "data": {
            "text/plain": [
              "31"
            ]
          },
          "metadata": {
            "tags": []
          },
          "execution_count": 5
        }
      ]
    },
    {
      "cell_type": "code",
      "metadata": {
        "id": "L7nghLDlhBmY"
      },
      "source": [
        "word= nltk.word_tokenize(paragraph)"
      ],
      "execution_count": 7,
      "outputs": []
    },
    {
      "cell_type": "code",
      "metadata": {
        "colab": {
          "base_uri": "https://localhost:8080/"
        },
        "id": "8La7kbJXhM8k",
        "outputId": "726fd686-6655-460c-e570-5a38a436dd24"
      },
      "source": [
        "len(word)"
      ],
      "execution_count": 8,
      "outputs": [
        {
          "output_type": "execute_result",
          "data": {
            "text/plain": [
              "399"
            ]
          },
          "metadata": {
            "tags": []
          },
          "execution_count": 8
        }
      ]
    }
  ]
}