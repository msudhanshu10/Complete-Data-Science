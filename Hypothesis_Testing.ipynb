{
  "nbformat": 4,
  "nbformat_minor": 0,
  "metadata": {
    "colab": {
      "name": "Hypothesis Testing.ipynb",
      "provenance": [],
      "authorship_tag": "ABX9TyNyF1KJJA9PY0pIpKaTLzb8",
      "include_colab_link": true
    },
    "kernelspec": {
      "name": "python3",
      "display_name": "Python 3"
    }
  },
  "cells": [
    {
      "cell_type": "markdown",
      "metadata": {
        "id": "view-in-github",
        "colab_type": "text"
      },
      "source": [
        "<a href=\"https://colab.research.google.com/github/msudhanshu10/Complete-Data-Science/blob/master/Hypothesis_Testing.ipynb\" target=\"_parent\"><img src=\"https://colab.research.google.com/assets/colab-badge.svg\" alt=\"Open In Colab\"/></a>"
      ]
    },
    {
      "cell_type": "markdown",
      "metadata": {
        "id": "52-d2Lbektuz"
      },
      "source": [
        "# One Sample T-test.\r\n",
        "\r\n",
        "When sample size <=30.\r\n",
        "\r\n",
        "t= (x_bar- mu)/ s(x_bar)\r\n",
        "\r\n",
        "x_bar= mean of the sample\r\n",
        "\r\n",
        "s(x_bar)= s/ sqrt(n)\r\n",
        "\r\n",
        "s= sample std deviation\r\n",
        "\r\n",
        "mu= population mean\r\n",
        "\r\n",
        "n= sample size"
      ]
    },
    {
      "cell_type": "code",
      "metadata": {
        "id": "lGWA5aybnu3c"
      },
      "source": [
        "import pandas as pd\r\n",
        "import numpy as np\r\n",
        "import matplotlib.pyplot as plt\r\n",
        "import seaborn as sns\r\n",
        "%matplotlib inline"
      ],
      "execution_count": 1,
      "outputs": []
    },
    {
      "cell_type": "code",
      "metadata": {
        "id": "zhTsiP5MlBp5"
      },
      "source": [
        "import random"
      ],
      "execution_count": 14,
      "outputs": []
    },
    {
      "cell_type": "code",
      "metadata": {
        "id": "y6tJVobAlJU-"
      },
      "source": [
        "age= random.sample(range(6, 100), 80)"
      ],
      "execution_count": 17,
      "outputs": []
    },
    {
      "cell_type": "code",
      "metadata": {
        "colab": {
          "base_uri": "https://localhost:8080/"
        },
        "id": "Jdo65smclWfy",
        "outputId": "eb49dd4b-42b0-42f1-ada0-a990d8ef537f"
      },
      "source": [
        "type(age)"
      ],
      "execution_count": 8,
      "outputs": [
        {
          "output_type": "execute_result",
          "data": {
            "text/plain": [
              "list"
            ]
          },
          "metadata": {
            "tags": []
          },
          "execution_count": 8
        }
      ]
    },
    {
      "cell_type": "code",
      "metadata": {
        "colab": {
          "base_uri": "https://localhost:8080/",
          "height": 340
        },
        "id": "34-20p6IlZBo",
        "outputId": "83599aaa-2ccf-4268-c63d-6b9841fb65e1"
      },
      "source": [
        "sns.distplot(age)"
      ],
      "execution_count": 18,
      "outputs": [
        {
          "output_type": "stream",
          "text": [
            "/usr/local/lib/python3.6/dist-packages/seaborn/distributions.py:2557: FutureWarning: `distplot` is a deprecated function and will be removed in a future version. Please adapt your code to use either `displot` (a figure-level function with similar flexibility) or `histplot` (an axes-level function for histograms).\n",
            "  warnings.warn(msg, FutureWarning)\n"
          ],
          "name": "stderr"
        },
        {
          "output_type": "execute_result",
          "data": {
            "text/plain": [
              "<matplotlib.axes._subplots.AxesSubplot at 0x7fed2aa132e8>"
            ]
          },
          "metadata": {
            "tags": []
          },
          "execution_count": 18
        },
        {
          "output_type": "display_data",
          "data": {
            "image/png": "[encoded data removed]",
            "text/plain": [
              "<Figure size 432x288 with 1 Axes>"
            ]
          },
          "metadata": {
            "tags": [],
            "needs_background": "light"
          }
        }
      ]
    },
    {
      "cell_type": "code",
      "metadata": {
        "colab": {
          "base_uri": "https://localhost:8080/"
        },
        "id": "xzIlmffRmEji",
        "outputId": "cd7c732b-2ac9-4bdb-b93d-8b4c0897e938"
      },
      "source": [
        "age_mean= np.mean(age)\r\n",
        "age_mean # mu= age_mean(population mean)"
      ],
      "execution_count": 19,
      "outputs": [
        {
          "output_type": "execute_result",
          "data": {
            "text/plain": [
              "52.7375"
            ]
          },
          "metadata": {
            "tags": []
          },
          "execution_count": 19
        }
      ]
    },
    {
      "cell_type": "code",
      "metadata": {
        "id": "1iwZM-L9mL5j"
      },
      "source": [
        "sample_size= 10\r\n",
        "age_sample= np.random.choice(age, sample_size)"
      ],
      "execution_count": 21,
      "outputs": []
    },
    {
      "cell_type": "code",
      "metadata": {
        "colab": {
          "base_uri": "https://localhost:8080/"
        },
        "id": "lQG5KugemW38",
        "outputId": "d7fcc874-6ac6-4c47-84b8-48f7370196a2"
      },
      "source": [
        "age_sample"
      ],
      "execution_count": 22,
      "outputs": [
        {
          "output_type": "execute_result",
          "data": {
            "text/plain": [
              "array([26, 25, 94, 15, 15, 59, 25, 45, 21, 32])"
            ]
          },
          "metadata": {
            "tags": []
          },
          "execution_count": 22
        }
      ]
    },
    {
      "cell_type": "code",
      "metadata": {
        "colab": {
          "base_uri": "https://localhost:8080/"
        },
        "id": "3ozkEc6unD-v",
        "outputId": "b9faebdd-bea3-4757-c96e-b9b200e37bc7"
      },
      "source": [
        "age_sample_mean= np.mean(age_sample)\r\n",
        "age_sample_mean"
      ],
      "execution_count": 23,
      "outputs": [
        {
          "output_type": "execute_result",
          "data": {
            "text/plain": [
              "35.7"
            ]
          },
          "metadata": {
            "tags": []
          },
          "execution_count": 23
        }
      ]
    },
    {
      "cell_type": "markdown",
      "metadata": {
        "id": "SCKIoy6EnTIM"
      },
      "source": [
        "*H0= There is* no *difference bw the means of smaple and population.*\r\n",
        "\r\n",
        "*H1= There is difference bw the means of the sample and population*"
      ]
    },
    {
      "cell_type": "code",
      "metadata": {
        "id": "outTjNZmnPCi"
      },
      "source": [
        "from scipy.stats import ttest_1samp"
      ],
      "execution_count": 24,
      "outputs": []
    },
    {
      "cell_type": "code",
      "metadata": {
        "id": "58N4fYuYn0RP"
      },
      "source": [
        "ttest, p_value= ttest_1samp(age_sample, age_mean)"
      ],
      "execution_count": 25,
      "outputs": []
    },
    {
      "cell_type": "code",
      "metadata": {
        "colab": {
          "base_uri": "https://localhost:8080/"
        },
        "id": "dMnT_dL2oMcG",
        "outputId": "f6ff3976-5134-448b-8c3b-2d744818da2b"
      },
      "source": [
        "print(p_value)"
      ],
      "execution_count": 26,
      "outputs": [
        {
          "output_type": "stream",
          "text": [
            "0.056084238005785166\n"
          ],
          "name": "stdout"
        }
      ]
    },
    {
      "cell_type": "code",
      "metadata": {
        "id": "4J1Zsob9oN59"
      },
      "source": [
        "def Hypothesis_testing(p_value, alpha):\r\n",
        "  if p_value<=alpha:\r\n",
        "    print('Reject H0 and Accept H1')\r\n",
        "  else :\r\n",
        "    print('Accept H0 and Reject H1')\r\n"
      ],
      "execution_count": 29,
      "outputs": []
    },
    {
      "cell_type": "code",
      "metadata": {
        "colab": {
          "base_uri": "https://localhost:8080/"
        },
        "id": "1jtqMg8BohPZ",
        "outputId": "fc586e28-cea0-4349-f82d-b1122665a7a5"
      },
      "source": [
        "Hypothesis_testing(p_value, 0.05)"
      ],
      "execution_count": 30,
      "outputs": [
        {
          "output_type": "stream",
          "text": [
            "Accept H0 and Reject H1\n"
          ],
          "name": "stdout"
        }
      ]
    },
    {
      "cell_type": "code",
      "metadata": {
        "id": "QRUoWKSxol9h"
      },
      "source": [
        "import scipy.stats as stats\r\n",
        "import math"
      ],
      "execution_count": 38,
      "outputs": []
    },
    {
      "cell_type": "code",
      "metadata": {
        "id": "IVSTJWPFpf3A"
      },
      "source": [
        "np.random.seed(6)\r\n",
        "scl_ages= stats.poisson.rvs(loc=18, mu=35, size=2500)\r\n",
        "class_ages= stats.poisson.rvs(loc=18, mu=30, size=60)"
      ],
      "execution_count": 39,
      "outputs": []
    },
    {
      "cell_type": "code",
      "metadata": {
        "colab": {
          "base_uri": "https://localhost:8080/",
          "height": 336
        },
        "id": "x8ykw3p9qAdC",
        "outputId": "7334e58e-876d-4932-8c6a-5d3555772aad"
      },
      "source": [
        "sns.distplot(scl_ages)"
      ],
      "execution_count": 40,
      "outputs": [
        {
          "output_type": "stream",
          "text": [
            "/usr/local/lib/python3.6/dist-packages/seaborn/distributions.py:2557: FutureWarning: `distplot` is a deprecated function and will be removed in a future version. Please adapt your code to use either `displot` (a figure-level function with similar flexibility) or `histplot` (an axes-level function for histograms).\n",
            "  warnings.warn(msg, FutureWarning)\n"
          ],
          "name": "stderr"
        },
        {
          "output_type": "execute_result",
          "data": {
            "text/plain": [
              "<matplotlib.axes._subplots.AxesSubplot at 0x7fed2275a5c0>"
            ]
          },
          "metadata": {
            "tags": []
          },
          "execution_count": 40
        },
        {
          "output_type": "display_data",
          "data": {
            "image/png": "[encoded data removed]",
            "text/plain": [
              "<Figure size 432x288 with 1 Axes>"
            ]
          },
          "metadata": {
            "tags": [],
            "needs_background": "light"
          }
        }
      ]
    },
    {
      "cell_type": "code",
      "metadata": {
        "colab": {
          "base_uri": "https://localhost:8080/",
          "height": 336
        },
        "id": "MWDmljNFqu5r",
        "outputId": "74674a15-9491-49b2-ecc2-924bbe0287b4"
      },
      "source": [
        "sns.distplot(class_ages)"
      ],
      "execution_count": 41,
      "outputs": [
        {
          "output_type": "stream",
          "text": [
            "/usr/local/lib/python3.6/dist-packages/seaborn/distributions.py:2557: FutureWarning: `distplot` is a deprecated function and will be removed in a future version. Please adapt your code to use either `displot` (a figure-level function with similar flexibility) or `histplot` (an axes-level function for histograms).\n",
            "  warnings.warn(msg, FutureWarning)\n"
          ],
          "name": "stderr"
        },
        {
          "output_type": "execute_result",
          "data": {
            "text/plain": [
              "<matplotlib.axes._subplots.AxesSubplot at 0x7fed2270d390>"
            ]
          },
          "metadata": {
            "tags": []
          },
          "execution_count": 41
        },
        {
          "output_type": "display_data",
          "data": {
            "image/png": "[encoded data removed]",
            "text/plain": [
              "<Figure size 432x288 with 1 Axes>"
            ]
          },
          "metadata": {
            "tags": [],
            "needs_background": "light"
          }
        }
      ]
    },
    {
      "cell_type": "code",
      "metadata": {
        "id": "ktYcr2ynqxO8"
      },
      "source": [
        "from scipy.stats import ttest_1samp"
      ],
      "execution_count": 42,
      "outputs": []
    },
    {
      "cell_type": "code",
      "metadata": {
        "colab": {
          "base_uri": "https://localhost:8080/"
        },
        "id": "fJ_bqvOxrPyA",
        "outputId": "8bba2ea9-2b7f-4be7-9167-063cc20060a3"
      },
      "source": [
        "scl_ages.mean()"
      ],
      "execution_count": 44,
      "outputs": [
        {
          "output_type": "execute_result",
          "data": {
            "text/plain": [
              "53.2576"
            ]
          },
          "metadata": {
            "tags": []
          },
          "execution_count": 44
        }
      ]
    },
    {
      "cell_type": "code",
      "metadata": {
        "colab": {
          "base_uri": "https://localhost:8080/"
        },
        "id": "EM5CIqWWq8IJ",
        "outputId": "18f415a1-89d0-48c1-a5b7-3de2912facad"
      },
      "source": [
        "ttest, p_value= ttest_1samp(class_ages, scl_ages.mean())\r\n",
        "print(p_value)"
      ],
      "execution_count": 45,
      "outputs": [
        {
          "output_type": "stream",
          "text": [
            "1.4179324265005682e-06\n"
          ],
          "name": "stdout"
        }
      ]
    },
    {
      "cell_type": "code",
      "metadata": {
        "colab": {
          "base_uri": "https://localhost:8080/"
        },
        "id": "yd3VlvNbrNVD",
        "outputId": "0b95f4b8-43cd-4e90-ef3e-4481b7971272"
      },
      "source": [
        "Hypothesis_testing(p_value, 0.05)"
      ],
      "execution_count": 46,
      "outputs": [
        {
          "output_type": "stream",
          "text": [
            "Reject H0 and Accept H1\n"
          ],
          "name": "stdout"
        }
      ]
    },
    {
      "cell_type": "markdown",
      "metadata": {
        "id": "c0-mYWjnrfjX"
      },
      "source": [
        "# Two Sample t-test.\r\n",
        "\r\n",
        "it compares mean of two independent groups."
      ]
    },
    {
      "cell_type": "code",
      "metadata": {
        "colab": {
          "base_uri": "https://localhost:8080/"
        },
        "id": "FXoTC3zHre4C",
        "outputId": "8ee596dc-7fed-4c47-85c1-6b1840c3f9a0"
      },
      "source": [
        "np.random.seed(12)\r\n",
        "classB_ages= stats.poisson.rvs(loc=18, mu=32, size= 60)\r\n",
        "classB_ages.mean()"
      ],
      "execution_count": 47,
      "outputs": [
        {
          "output_type": "execute_result",
          "data": {
            "text/plain": [
              "49.6"
            ]
          },
          "metadata": {
            "tags": []
          },
          "execution_count": 47
        }
      ]
    },
    {
      "cell_type": "code",
      "metadata": {
        "colab": {
          "base_uri": "https://localhost:8080/",
          "height": 336
        },
        "id": "kEsC64zAraKd",
        "outputId": "d19b423a-024a-4458-93d7-e24497622744"
      },
      "source": [
        "sns.distplot(classB_ages)"
      ],
      "execution_count": 48,
      "outputs": [
        {
          "output_type": "stream",
          "text": [
            "/usr/local/lib/python3.6/dist-packages/seaborn/distributions.py:2557: FutureWarning: `distplot` is a deprecated function and will be removed in a future version. Please adapt your code to use either `displot` (a figure-level function with similar flexibility) or `histplot` (an axes-level function for histograms).\n",
            "  warnings.warn(msg, FutureWarning)\n"
          ],
          "name": "stderr"
        },
        {
          "output_type": "execute_result",
          "data": {
            "text/plain": [
              "<matplotlib.axes._subplots.AxesSubplot at 0x7fed226cab00>"
            ]
          },
          "metadata": {
            "tags": []
          },
          "execution_count": 48
        },
        {
          "output_type": "display_data",
          "data": {
            "image/png": "[encoded data removed]",
            "text/plain": [
              "<Figure size 432x288 with 1 Axes>"
            ]
          },
          "metadata": {
            "tags": [],
            "needs_background": "light"
          }
        }
      ]
    },
    {
      "cell_type": "code",
      "metadata": {
        "id": "CUa8khSFtzei"
      },
      "source": [
        "from scipy.stats import ttest_ind\r\n",
        "\r\n",
        "ttest2, p_value= ttest_ind(a= class_ages, b= classB_ages, equal_var=False)"
      ],
      "execution_count": 51,
      "outputs": []
    },
    {
      "cell_type": "code",
      "metadata": {
        "colab": {
          "base_uri": "https://localhost:8080/"
        },
        "id": "4k3CpcmcuNhU",
        "outputId": "e7b08466-0ae1-4957-8457-5329e5dde646"
      },
      "source": [
        "print(p_value)"
      ],
      "execution_count": 52,
      "outputs": [
        {
          "output_type": "stream",
          "text": [
            "0.6397033783887267\n"
          ],
          "name": "stdout"
        }
      ]
    },
    {
      "cell_type": "code",
      "metadata": {
        "colab": {
          "base_uri": "https://localhost:8080/"
        },
        "id": "aSDWHSjUuXSX",
        "outputId": "cfa31d76-3b98-4625-a6b5-736c8dde3e80"
      },
      "source": [
        "Hypothesis_testing(p_value, 0.05)"
      ],
      "execution_count": 53,
      "outputs": [
        {
          "output_type": "stream",
          "text": [
            "Accept H0 and Reject H1\n"
          ],
          "name": "stdout"
        }
      ]
    },
    {
      "cell_type": "code",
      "metadata": {
        "id": "jNUGtFuCua-3"
      },
      "source": [
        ""
      ],
      "execution_count": null,
      "outputs": []
    }
  ]
}