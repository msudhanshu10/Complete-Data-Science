{
  "nbformat": 4,
  "nbformat_minor": 0,
  "metadata": {
    "colab": {
      "name": "How to find optimal ROC value for a classification problem.ipynb",
      "provenance": [],
      "authorship_tag": "ABX9TyPxTRpSulWAIvIcZO214jkr",
      "include_colab_link": true
    },
    "kernelspec": {
      "name": "python3",
      "display_name": "Python 3"
    }
  },
  "cells": [
    {
      "cell_type": "markdown",
      "metadata": {
        "id": "view-in-github",
        "colab_type": "text"
      },
      "source": [
        "<a href=\"https://colab.research.google.com/github/msudhanshu10/Complete-Data-Science/blob/master/How_to_find_optimal_ROC_value_for_a_classification_problem.ipynb\" target=\"_parent\"><img src=\"https://colab.research.google.com/assets/colab-badge.svg\" alt=\"Open In Colab\"/></a>"
      ]
    },
    {
      "cell_type": "code",
      "metadata": {
        "id": "SV_EV1S2vkZg"
      },
      "source": [
        "import numpy as np\r\n",
        "import pandas as pd\r\n",
        "import matplotlib.pyplot as plt\r\n",
        "import seaborn as sns\r\n",
        "\r\n",
        "from sklearn.datasets import make_classification"
      ],
      "execution_count": 1,
      "outputs": []
    },
    {
      "cell_type": "code",
      "metadata": {
        "id": "k83HATb0wchh"
      },
      "source": [
        "X, y= make_classification(n_samples=2000, n_features=20, n_classes=2, weights=[1,1], random_state=1)\r\n",
        "## weight is to assign ration of 1 class to another\r\n",
        "\r\n",
        "\r\n",
        "from sklearn.model_selection import train_test_split\r\n",
        "X_train, X_test, y_train, y_test= train_test_split(X, y, test_size=0.3, random_state=1)"
      ],
      "execution_count": 2,
      "outputs": []
    },
    {
      "cell_type": "code",
      "metadata": {
        "id": "KH0hO3oQxR3m"
      },
      "source": [
        "from sklearn.metrics import confusion_matrix, classification_report, roc_curve, roc_auc_score"
      ],
      "execution_count": 3,
      "outputs": []
    },
    {
      "cell_type": "markdown",
      "metadata": {
        "id": "riSm1E01xozJ"
      },
      "source": [
        "Applying various classification algorithms."
      ]
    },
    {
      "cell_type": "markdown",
      "metadata": {
        "id": "SHV7bpnFyNec"
      },
      "source": [
        "# 1. RandomForestClassifier"
      ]
    },
    {
      "cell_type": "code",
      "metadata": {
        "colab": {
          "base_uri": "https://localhost:8080/"
        },
        "id": "H-So_Q7Oxisk",
        "outputId": "d83fce04-ab27-4086-9dfb-eb1c8176aeed"
      },
      "source": [
        "from sklearn.ensemble import RandomForestClassifier\r\n",
        "rf_model= RandomForestClassifier()\r\n",
        "rf_model.fit(X_train, y_train)\r\n",
        "\r\n",
        "y_train_prob1= rf_model.predict_proba(X_train)\r\n",
        "y_test_prob1= rf_model.predict_proba(X_test)\r\n",
        "\r\n",
        "print('RF ROC train:', roc_auc_score(y_train, y_train_prob1[:,1]))\r\n",
        "print('Rf ROC test:',roc_auc_score(y_test, y_test_prob1[:,1]))"
      ],
      "execution_count": 6,
      "outputs": [
        {
          "output_type": "stream",
          "text": [
            "RF ROC train: 0.9999999999999999\n",
            "Rf ROC test: 0.9837055555555556\n"
          ],
          "name": "stdout"
        }
      ]
    },
    {
      "cell_type": "markdown",
      "metadata": {
        "id": "j_vdtq2D0oCm"
      },
      "source": [
        "# 2. logistic regression"
      ]
    },
    {
      "cell_type": "code",
      "metadata": {
        "colab": {
          "base_uri": "https://localhost:8080/"
        },
        "id": "ytp94-Ci0Txj",
        "outputId": "b4f75072-4a4c-427f-cac1-2284270a74ea"
      },
      "source": [
        "from sklearn.linear_model import LogisticRegression\r\n",
        "lr_model= LogisticRegression()\r\n",
        "lr_model.fit(X_train, y_train)\r\n",
        "\r\n",
        "y_train_prob2= lr_model.predict_proba(X_train)\r\n",
        "y_test_prob2= lr_model.predict_proba(X_test)\r\n",
        "\r\n",
        "print('Logistic Regression ROC train:', roc_auc_score(y_train, y_train_prob2[:,1]))\r\n",
        "print('Rf ROC test:',roc_auc_score(y_test, y_test_prob2[:,1]))"
      ],
      "execution_count": 7,
      "outputs": [
        {
          "output_type": "stream",
          "text": [
            "Logistic Regression ROC train: 0.9863568922694498\n",
            "Rf ROC test: 0.9885777777777777\n"
          ],
          "name": "stdout"
        }
      ]
    },
    {
      "cell_type": "markdown",
      "metadata": {
        "id": "ttmfRagQ3pvp"
      },
      "source": [
        "# 3. AdaBoost Classifier"
      ]
    },
    {
      "cell_type": "code",
      "metadata": {
        "colab": {
          "base_uri": "https://localhost:8080/"
        },
        "id": "t2pI1oOf15AA",
        "outputId": "06ff5942-4790-4fa7-c2e9-ecc3c90e4822"
      },
      "source": [
        "from sklearn.ensemble import AdaBoostClassifier\r\n",
        "ada_model= AdaBoostClassifier()\r\n",
        "ada_model.fit(X_train, y_train)\r\n",
        "y_train_prob3= ada_model.predict_proba(X_train)\r\n",
        "y_test_prob3= ada_model.predict_proba(X_test)\r\n",
        "print('AdaboostClassifier ROC train:', roc_auc_score(y_train, y_train_prob3[:,1]))\r\n",
        "print('AdaboostClassifie ROC test:',roc_auc_score(y_test, y_test_prob3[:,1]))"
      ],
      "execution_count": 8,
      "outputs": [
        {
          "output_type": "stream",
          "text": [
            "AdaboostClassifier ROC train: 0.9975081174960356\n",
            "AdaboostClassifie ROC test: 0.9826111111111111\n"
          ],
          "name": "stdout"
        }
      ]
    },
    {
      "cell_type": "markdown",
      "metadata": {
        "id": "4j5sU1lY4SBt"
      },
      "source": [
        "# 4. KNN_Classifier"
      ]
    },
    {
      "cell_type": "code",
      "metadata": {
        "colab": {
          "base_uri": "https://localhost:8080/"
        },
        "id": "OuD33m2Q4Mws",
        "outputId": "48af8548-9633-4903-d4df-ebe038b9f010"
      },
      "source": [
        "from sklearn.neighbors import KNeighborsClassifier\r\n",
        "knn_model= KNeighborsClassifier()\r\n",
        "knn_model.fit(X_train, y_train)\r\n",
        "y_train_prob4= knn_model.predict_proba(X_train)\r\n",
        "y_test_prob4= knn_model.predict_proba(X_test)\r\n",
        "print('KNN_Classifier ROC train:', roc_auc_score(y_train, y_train_prob4[:,1]))\r\n",
        "print('KNN_Classifie ROC test:',roc_auc_score(y_test, y_test_prob4[:,1]))"
      ],
      "execution_count": 9,
      "outputs": [
        {
          "output_type": "stream",
          "text": [
            "KNN_Classifier ROC train: 0.981670071491109\n",
            "KNN_Classifie ROC test: 0.9426111111111111\n"
          ],
          "name": "stdout"
        }
      ]
    },
    {
      "cell_type": "code",
      "metadata": {
        "id": "hclb3yfj4rBI"
      },
      "source": [
        "pred=[]\r\n",
        "\r\n",
        "for model in [rf_model, lr_model, ada_model, knn_model]:\r\n",
        "  pred.append(pd.Series(model.predict_proba(X_test)[:,1]))\r\n",
        "\r\n",
        "final_pred= pd.concat(pred, axis=1).mean(axis=1)"
      ],
      "execution_count": 10,
      "outputs": []
    },
    {
      "cell_type": "code",
      "metadata": {
        "colab": {
          "base_uri": "https://localhost:8080/",
          "height": 419
        },
        "id": "DaVFWtJs5c1f",
        "outputId": "88b51842-b363-4b53-ddd0-aa79aef2243b"
      },
      "source": [
        "pd.concat(pred, axis=1) # Converting predicted probabilty series to a data frame with 600 test data points and 4 models as columns."
      ],
      "execution_count": 11,
      "outputs": [
        {
          "output_type": "execute_result",
          "data": {
            "text/html": [
              "<div>\n",
              "<style scoped>\n",
              "    .dataframe tbody tr th:only-of-type {\n",
              "        vertical-align: middle;\n",
              "    }\n",
              "\n",
              "    .dataframe tbody tr th {\n",
              "        vertical-align: top;\n",
              "    }\n",
              "\n",
              "    .dataframe thead th {\n",
              "        text-align: right;\n",
              "    }\n",
              "</style>\n",
              "<table border=\"1\" class=\"dataframe\">\n",
              "  <thead>\n",
              "    <tr style=\"text-align: right;\">\n",
              "      <th></th>\n",
              "      <th>0</th>\n",
              "      <th>1</th>\n",
              "      <th>2</th>\n",
              "      <th>3</th>\n",
              "    </tr>\n",
              "  </thead>\n",
              "  <tbody>\n",
              "    <tr>\n",
              "      <th>0</th>\n",
              "      <td>0.99</td>\n",
              "      <td>0.991861</td>\n",
              "      <td>0.559186</td>\n",
              "      <td>1.0</td>\n",
              "    </tr>\n",
              "    <tr>\n",
              "      <th>1</th>\n",
              "      <td>0.00</td>\n",
              "      <td>0.000008</td>\n",
              "      <td>0.463282</td>\n",
              "      <td>0.0</td>\n",
              "    </tr>\n",
              "    <tr>\n",
              "      <th>2</th>\n",
              "      <td>0.95</td>\n",
              "      <td>0.966929</td>\n",
              "      <td>0.538202</td>\n",
              "      <td>0.8</td>\n",
              "    </tr>\n",
              "    <tr>\n",
              "      <th>3</th>\n",
              "      <td>0.93</td>\n",
              "      <td>0.761539</td>\n",
              "      <td>0.509875</td>\n",
              "      <td>0.8</td>\n",
              "    </tr>\n",
              "    <tr>\n",
              "      <th>4</th>\n",
              "      <td>0.60</td>\n",
              "      <td>0.779443</td>\n",
              "      <td>0.490344</td>\n",
              "      <td>0.4</td>\n",
              "    </tr>\n",
              "    <tr>\n",
              "      <th>...</th>\n",
              "      <td>...</td>\n",
              "      <td>...</td>\n",
              "      <td>...</td>\n",
              "      <td>...</td>\n",
              "    </tr>\n",
              "    <tr>\n",
              "      <th>595</th>\n",
              "      <td>0.00</td>\n",
              "      <td>0.024239</td>\n",
              "      <td>0.461121</td>\n",
              "      <td>0.0</td>\n",
              "    </tr>\n",
              "    <tr>\n",
              "      <th>596</th>\n",
              "      <td>0.04</td>\n",
              "      <td>0.000003</td>\n",
              "      <td>0.441377</td>\n",
              "      <td>0.0</td>\n",
              "    </tr>\n",
              "    <tr>\n",
              "      <th>597</th>\n",
              "      <td>1.00</td>\n",
              "      <td>0.984385</td>\n",
              "      <td>0.532403</td>\n",
              "      <td>1.0</td>\n",
              "    </tr>\n",
              "    <tr>\n",
              "      <th>598</th>\n",
              "      <td>0.00</td>\n",
              "      <td>0.001147</td>\n",
              "      <td>0.441720</td>\n",
              "      <td>0.2</td>\n",
              "    </tr>\n",
              "    <tr>\n",
              "      <th>599</th>\n",
              "      <td>0.99</td>\n",
              "      <td>0.989540</td>\n",
              "      <td>0.559890</td>\n",
              "      <td>0.8</td>\n",
              "    </tr>\n",
              "  </tbody>\n",
              "</table>\n",
              "<p>600 rows × 4 columns</p>\n",
              "</div>"
            ],
            "text/plain": [
              "        0         1         2    3\n",
              "0    0.99  0.991861  0.559186  1.0\n",
              "1    0.00  0.000008  0.463282  0.0\n",
              "2    0.95  0.966929  0.538202  0.8\n",
              "3    0.93  0.761539  0.509875  0.8\n",
              "4    0.60  0.779443  0.490344  0.4\n",
              "..    ...       ...       ...  ...\n",
              "595  0.00  0.024239  0.461121  0.0\n",
              "596  0.04  0.000003  0.441377  0.0\n",
              "597  1.00  0.984385  0.532403  1.0\n",
              "598  0.00  0.001147  0.441720  0.2\n",
              "599  0.99  0.989540  0.559890  0.8\n",
              "\n",
              "[600 rows x 4 columns]"
            ]
          },
          "metadata": {
            "tags": []
          },
          "execution_count": 11
        }
      ]
    },
    {
      "cell_type": "code",
      "metadata": {
        "colab": {
          "base_uri": "https://localhost:8080/"
        },
        "id": "kHSy2ql65qNN",
        "outputId": "ed55e8c7-fcc0-42cd-e36e-34e3c626b97e"
      },
      "source": [
        "final_pred"
      ],
      "execution_count": 12,
      "outputs": [
        {
          "output_type": "execute_result",
          "data": {
            "text/plain": [
              "0      0.885262\n",
              "1      0.115823\n",
              "2      0.813783\n",
              "3      0.750353\n",
              "4      0.567447\n",
              "         ...   \n",
              "595    0.121340\n",
              "596    0.120345\n",
              "597    0.879197\n",
              "598    0.160717\n",
              "599    0.834857\n",
              "Length: 600, dtype: float64"
            ]
          },
          "metadata": {
            "tags": []
          },
          "execution_count": 12
        }
      ]
    },
    {
      "cell_type": "code",
      "metadata": {
        "id": "eT_LqBVA599R",
        "colab": {
          "base_uri": "https://localhost:8080/"
        },
        "outputId": "1553b3da-1859-4333-e5ed-662a84ed8e82"
      },
      "source": [
        "## fpr= False Positive Rate\r\n",
        "## tpr= True Positive Rate\r\n",
        "## threshold\r\n",
        "\r\n",
        "fpr, tpr, threshold= roc_curve(y_test, final_pred)\r\n",
        "threshold\r\n"
      ],
      "execution_count": 13,
      "outputs": [
        {
          "output_type": "execute_result",
          "data": {
            "text/plain": [
              "array([1.91188114, 0.91188114, 0.91156694, 0.90827475, 0.79301733,\n",
              "       0.79162833, 0.78387064, 0.7830558 , 0.77992916, 0.77821156,\n",
              "       0.75545305, 0.75537124, 0.73180851, 0.73137362, 0.71475181,\n",
              "       0.71143711, 0.68147732, 0.67743537, 0.58077749, 0.57800386,\n",
              "       0.57656376, 0.57486186, 0.54542732, 0.54139283, 0.53595371,\n",
              "       0.53469563, 0.53105932, 0.49616892, 0.45990225, 0.44544916,\n",
              "       0.4396034 , 0.39722765, 0.39379719, 0.34062235, 0.33836612,\n",
              "       0.23217239, 0.23140421, 0.22848126, 0.22646893, 0.21233682,\n",
              "       0.20598417, 0.12295384, 0.1228351 , 0.10632697])"
            ]
          },
          "metadata": {
            "tags": []
          },
          "execution_count": 13
        }
      ]
    },
    {
      "cell_type": "code",
      "metadata": {
        "colab": {
          "base_uri": "https://localhost:8080/",
          "height": 359
        },
        "id": "Buz5yFzxHX4J",
        "outputId": "eae57003-a2ea-4d4d-b7e5-46f686cf609a"
      },
      "source": [
        "# Which threshold value to select?\r\n",
        "from sklearn.metrics import accuracy_score\r\n",
        "\r\n",
        "acc= []\r\n",
        "\r\n",
        "for thres in threshold:\r\n",
        "  y_pred= np.where(final_pred>thres, 1, 0)\r\n",
        "  acc.append(accuracy_score(y_test, y_pred, normalize=True))\r\n",
        "\r\n",
        "acc= pd.concat([pd.Series(threshold), pd.Series(acc)], axis=1)\r\n",
        "\r\n",
        "acc.columns=['Threshold', 'Accuracy']\r\n",
        "acc.sort_values(by='Accuracy', ascending=False, inplace=True)\r\n",
        "acc.head(10)"
      ],
      "execution_count": 15,
      "outputs": [
        {
          "output_type": "execute_result",
          "data": {
            "text/html": [
              "<div>\n",
              "<style scoped>\n",
              "    .dataframe tbody tr th:only-of-type {\n",
              "        vertical-align: middle;\n",
              "    }\n",
              "\n",
              "    .dataframe tbody tr th {\n",
              "        vertical-align: top;\n",
              "    }\n",
              "\n",
              "    .dataframe thead th {\n",
              "        text-align: right;\n",
              "    }\n",
              "</style>\n",
              "<table border=\"1\" class=\"dataframe\">\n",
              "  <thead>\n",
              "    <tr style=\"text-align: right;\">\n",
              "      <th></th>\n",
              "      <th>Threshold</th>\n",
              "      <th>Accuracy</th>\n",
              "    </tr>\n",
              "  </thead>\n",
              "  <tbody>\n",
              "    <tr>\n",
              "      <th>29</th>\n",
              "      <td>0.445449</td>\n",
              "      <td>0.961667</td>\n",
              "    </tr>\n",
              "    <tr>\n",
              "      <th>30</th>\n",
              "      <td>0.439603</td>\n",
              "      <td>0.960000</td>\n",
              "    </tr>\n",
              "    <tr>\n",
              "      <th>28</th>\n",
              "      <td>0.459902</td>\n",
              "      <td>0.960000</td>\n",
              "    </tr>\n",
              "    <tr>\n",
              "      <th>25</th>\n",
              "      <td>0.534696</td>\n",
              "      <td>0.960000</td>\n",
              "    </tr>\n",
              "    <tr>\n",
              "      <th>27</th>\n",
              "      <td>0.496169</td>\n",
              "      <td>0.958333</td>\n",
              "    </tr>\n",
              "    <tr>\n",
              "      <th>26</th>\n",
              "      <td>0.531059</td>\n",
              "      <td>0.958333</td>\n",
              "    </tr>\n",
              "    <tr>\n",
              "      <th>24</th>\n",
              "      <td>0.535954</td>\n",
              "      <td>0.958333</td>\n",
              "    </tr>\n",
              "    <tr>\n",
              "      <th>23</th>\n",
              "      <td>0.541393</td>\n",
              "      <td>0.958333</td>\n",
              "    </tr>\n",
              "    <tr>\n",
              "      <th>22</th>\n",
              "      <td>0.545427</td>\n",
              "      <td>0.956667</td>\n",
              "    </tr>\n",
              "    <tr>\n",
              "      <th>31</th>\n",
              "      <td>0.397228</td>\n",
              "      <td>0.955000</td>\n",
              "    </tr>\n",
              "  </tbody>\n",
              "</table>\n",
              "</div>"
            ],
            "text/plain": [
              "    Threshold  Accuracy\n",
              "29   0.445449  0.961667\n",
              "30   0.439603  0.960000\n",
              "28   0.459902  0.960000\n",
              "25   0.534696  0.960000\n",
              "27   0.496169  0.958333\n",
              "26   0.531059  0.958333\n",
              "24   0.535954  0.958333\n",
              "23   0.541393  0.958333\n",
              "22   0.545427  0.956667\n",
              "31   0.397228  0.955000"
            ]
          },
          "metadata": {
            "tags": []
          },
          "execution_count": 15
        }
      ]
    },
    {
      "cell_type": "code",
      "metadata": {
        "id": "YbTJBtqfIsGc"
      },
      "source": [
        "def plot_roc_curve(fpr, tpr):\r\n",
        "  plt.plot(fpr,tpr, color='orange', label='ROC')\r\n",
        "  plt.xlabel('False Positive Rate')\r\n",
        "  plt.ylabel('True Positive Rate')\r\n",
        "  plt.title('ROC_Curve')\r\n",
        "  plt.show()"
      ],
      "execution_count": 20,
      "outputs": []
    },
    {
      "cell_type": "code",
      "metadata": {
        "colab": {
          "base_uri": "https://localhost:8080/",
          "height": 295
        },
        "id": "xU3xv1Q7Jx3G",
        "outputId": "60467058-fdf7-4f21-e686-2759a5a57311"
      },
      "source": [
        "plot_roc_curve(fpr, tpr)"
      ],
      "execution_count": 21,
      "outputs": [
        {
          "output_type": "display_data",
          "data": {
            "image/png": "[encoded data removed]",
            "text/plain": [
              "<Figure size 432x288 with 1 Axes>"
            ]
          },
          "metadata": {
            "tags": [],
            "needs_background": "light"
          }
        }
      ]
    }
  ]
}