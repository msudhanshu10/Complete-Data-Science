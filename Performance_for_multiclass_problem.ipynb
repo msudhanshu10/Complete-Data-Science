{
  "nbformat": 4,
  "nbformat_minor": 0,
  "metadata": {
    "colab": {
      "name": "Performance for multiclass problem.ipynb",
      "provenance": [],
      "authorship_tag": "ABX9TyOoXmO18TqMPg2MKFXxpDFB",
      "include_colab_link": true
    },
    "kernelspec": {
      "name": "python3",
      "display_name": "Python 3"
    }
  },
  "cells": [
    {
      "cell_type": "markdown",
      "metadata": {
        "id": "view-in-github",
        "colab_type": "text"
      },
      "source": [
        "<a href=\"https://colab.research.google.com/github/msudhanshu10/Complete-Data-Science/blob/master/Performance_for_multiclass_problem.ipynb\" target=\"_parent\"><img src=\"https://colab.research.google.com/assets/colab-badge.svg\" alt=\"Open In Colab\"/></a>"
      ]
    },
    {
      "cell_type": "code",
      "metadata": {
        "id": "7HlsKCd1G1od"
      },
      "source": [
        "from sklearn import metrics"
      ],
      "execution_count": 1,
      "outputs": []
    },
    {
      "cell_type": "code",
      "metadata": {
        "id": "IWvHOM5UHAjh"
      },
      "source": [
        "C= 'Cat'\r\n",
        "D= 'Dog'\r\n",
        "F= 'Fox'"
      ],
      "execution_count": 2,
      "outputs": []
    },
    {
      "cell_type": "code",
      "metadata": {
        "id": "PY9ZDlw1HYzO"
      },
      "source": [
        "y_true= [C, C, C, C, C, C, F, F, F, F, F, F, F, F, F, F,  D, D, D, D, D, D, D, D, D]\r\n",
        "\r\n",
        "y_pred=[C, F, C, C, D, D, D, F, F, F, F, C, C, C, F, F, F, D, D, D, D, C, D, D, F]"
      ],
      "execution_count": 3,
      "outputs": []
    },
    {
      "cell_type": "code",
      "metadata": {
        "colab": {
          "base_uri": "https://localhost:8080/"
        },
        "id": "w7-iwQWwH1YU",
        "outputId": "bd1e794b-2479-437b-fa4c-d826f4ac0053"
      },
      "source": [
        "print(len(y_true))\r\n",
        "print(len(y_pred))"
      ],
      "execution_count": 4,
      "outputs": [
        {
          "output_type": "stream",
          "text": [
            "25\n",
            "25\n"
          ],
          "name": "stdout"
        }
      ]
    },
    {
      "cell_type": "code",
      "metadata": {
        "colab": {
          "base_uri": "https://localhost:8080/"
        },
        "id": "WTFcPe87H6J2",
        "outputId": "d6f021d3-95b1-49d5-83ce-a9b6e2e8abe5"
      },
      "source": [
        "print(metrics.confusion_matrix(y_true, y_pred))\r\n",
        "# Accuracy= sum of diagonal elements/ total number of elements"
      ],
      "execution_count": 5,
      "outputs": [
        {
          "output_type": "stream",
          "text": [
            "[[3 2 1]\n",
            " [1 6 2]\n",
            " [3 1 6]]\n"
          ],
          "name": "stdout"
        }
      ]
    },
    {
      "cell_type": "code",
      "metadata": {
        "colab": {
          "base_uri": "https://localhost:8080/"
        },
        "id": "gV1gXL-oIEcj",
        "outputId": "9afb0998-b2f3-4fbd-bd92-1bc10edef17c"
      },
      "source": [
        "print(metrics.classification_report(y_true, y_pred, digits=3))"
      ],
      "execution_count": 6,
      "outputs": [
        {
          "output_type": "stream",
          "text": [
            "              precision    recall  f1-score   support\n",
            "\n",
            "         Cat      0.429     0.500     0.462         6\n",
            "         Dog      0.667     0.667     0.667         9\n",
            "         Fox      0.667     0.600     0.632        10\n",
            "\n",
            "    accuracy                          0.600        25\n",
            "   macro avg      0.587     0.589     0.587        25\n",
            "weighted avg      0.610     0.600     0.603        25\n",
            "\n"
          ],
          "name": "stdout"
        }
      ]
    },
    {
      "cell_type": "code",
      "metadata": {
        "id": "GLAJKZdxJH52"
      },
      "source": [
        " # Precision(x)= no of correctly predicted(x)/ total number of predicted(x)"
      ],
      "execution_count": 7,
      "outputs": []
    },
    {
      "cell_type": "code",
      "metadata": {
        "colab": {
          "base_uri": "https://localhost:8080/"
        },
        "id": "ZLbi-aJKJ3uw",
        "outputId": "b7016d19-5a50-497d-b013-7600df374f36"
      },
      "source": [
        "# f1-score= (2*Precision* Recall)/(Precision+Recall)\r\n",
        "f1_score_cat= (2*0.429*0.5)/(0.429+0.5)\r\n",
        "f1_score_cat"
      ],
      "execution_count": 8,
      "outputs": [
        {
          "output_type": "execute_result",
          "data": {
            "text/plain": [
              "0.4617868675995694"
            ]
          },
          "metadata": {
            "tags": []
          },
          "execution_count": 8
        }
      ]
    },
    {
      "cell_type": "code",
      "metadata": {
        "id": "HCeaInbjKetG"
      },
      "source": [
        ""
      ],
      "execution_count": null,
      "outputs": []
    }
  ]
}